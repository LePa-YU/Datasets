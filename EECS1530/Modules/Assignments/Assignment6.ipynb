{
  "nbformat": 4,
  "nbformat_minor": 0,
  "metadata": {
    "colab": {
      "name": "Assignment6.ipynb",
      "provenance": [],
      "collapsed_sections": []
    },
    "kernelspec": {
      "name": "python3",
      "display_name": "Python 3"
    }
  },
  "cells": [
    {
      "cell_type": "markdown",
      "metadata": {
        "id": "MLElTbVG7xOO",
        "colab_type": "text"
      },
      "source": [
        "Question 1\n",
        "\n",
        "Create a program that will update a store inventory. "
      ]
    },
    {
      "cell_type": "code",
      "metadata": {
        "id": "nFZiPsXO77HD",
        "colab_type": "code",
        "colab": {}
      },
      "source": [
        "# Write your functions here"
      ],
      "execution_count": 0,
      "outputs": []
    },
    {
      "cell_type": "code",
      "metadata": {
        "id": "a2vuchKj7zmr",
        "colab_type": "code",
        "colab": {}
      },
      "source": [
        "main():\n",
        "  # Write your main function here\n",
        "\n",
        "main()"
      ],
      "execution_count": 0,
      "outputs": []
    }
  ]
}