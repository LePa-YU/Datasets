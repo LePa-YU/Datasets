{
  "nbformat": 4,
  "nbformat_minor": 0,
  "metadata": {
    "colab": {
      "name": "assignment4.ipynb",
      "provenance": [],
      "collapsed_sections": []
    },
    "kernelspec": {
      "name": "python3",
      "display_name": "Python 3"
    }
  },
  "cells": [
    {
      "cell_type": "markdown",
      "metadata": {
        "id": "XaPL3H_nGBuD",
        "colab_type": "text"
      },
      "source": [
        "Question 1.\n",
        "\n",
        "Using the math library, create a Python program to calculate the side of a right triangle. Write three functions: 1. SOH, 2. CAH. 3. TOA. "
      ]
    },
    {
      "cell_type": "code",
      "metadata": {
        "id": "P-cfhvp06smV",
        "colab_type": "code",
        "colab": {}
      },
      "source": [
        "import math\n",
        "# Calculation functions"
      ],
      "execution_count": 0,
      "outputs": []
    },
    {
      "cell_type": "code",
      "metadata": {
        "id": "IA5UcU9NJGrZ",
        "colab_type": "code",
        "colab": {}
      },
      "source": [
        "# main() function"
      ],
      "execution_count": 0,
      "outputs": []
    },
    {
      "cell_type": "markdown",
      "metadata": {
        "id": "zgBed_ZyGJ4h",
        "colab_type": "text"
      },
      "source": [
        "Question 2. Unit tests\n",
        "\n",
        "Write your own unit tests as a function here."
      ]
    },
    {
      "cell_type": "code",
      "metadata": {
        "id": "21oIi9cZGLa3",
        "colab_type": "code",
        "colab": {}
      },
      "source": [
        "import unittest\n",
        "\n",
        "class TestNotebook(unittest.TestCase):\n",
        "    def test_SOH(self):\n",
        "      self.assertEqual(SOH(30,15), 2.3137717483137608)\n",
        "    def test_CAH(self):\n",
        "      self.assertEqual(CAH(30,15), -14.820474361392927)\n",
        "    def test_TOA(self):\n",
        "      self.assertEqual(TOA(30,15), -96.07996794969414)\n",
        "    # Write your own unit tests here as new functions\n",
        "\n",
        "\n",
        "unittest.main(argv=[''], verbosity=2, exit=False)"
      ],
      "execution_count": 0,
      "outputs": []
    }
  ]
}