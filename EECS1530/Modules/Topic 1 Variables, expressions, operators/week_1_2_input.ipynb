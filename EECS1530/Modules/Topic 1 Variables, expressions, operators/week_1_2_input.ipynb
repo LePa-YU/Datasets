{
nbformat: 4,
nbformat_minor: 0,
metadata: {
colab: {
name: "week_1_2_input.ipynb",
provenance: [ ],
collapsed_sections: [ ]
},
kernelspec: {
name: "python3",
display_name: "Python 3"
}
},
cells: [
{
cell_type: "markdown",
metadata: {
id: "LemG7X9m_tjC",
colab_type: "text"
},
source: [
"#Input and expressions"
]
},
{
cell_type: "code",
metadata: {
id: "vBEMGMgz_kPh",
colab_type: "code",
colab: {
base_uri: "https://localhost:8080/",
height: 68
},
outputId: "1dd12bf3-9160-4b19-b736-260ba45bc6ec",
executionInfo: {
status: "ok",
timestamp: 1578515153036,
user_tz: 300,
elapsed: 7485,
user: {
displayName: "Anni Siren",
photoUrl: "",
userId: "11101633362605165872"
}
}
},
source: [
"print(input('value 1: ' ) + input('value 2: '))"
],
execution_count: 1,
outputs: [
{
output_type: "stream",
text: [
"value 1: 1
",
"value 2: 2
",
"12
"
],
name: "stdout"
}
]
},
{
cell_type: "code",
metadata: {
id: "6ix-r6qc_xJl",
colab_type: "code",
colab: {
base_uri: "https://localhost:8080/",
height: 51
},
outputId: "0fcf76a6-73db-4335-9cdc-f4f670b551a5",
executionInfo: {
status: "ok",
timestamp: 1578515165950,
user_tz: 300,
elapsed: 4575,
user: {
displayName: "Anni Siren",
photoUrl: "",
userId: "11101633362605165872"
}
}
},
source: [
"v1 = int(input('enter value 1: '))
",
"v2 = float(input("value 2: "))"
],
execution_count: 2,
outputs: [
{
output_type: "stream",
text: [
"enter value 1: 1
",
"value 2: 2
"
],
name: "stdout"
}
]
},
{
cell_type: "code",
metadata: {
id: "qwmPF8a6_zwT",
colab_type: "code",
colab: {
base_uri: "https://localhost:8080/",
height: 34
},
outputId: "09e4d877-1ec9-4f95-dd3b-9e12fd8a0a1f",
executionInfo: {
status: "ok",
timestamp: 1578515168521,
user_tz: 300,
elapsed: 273,
user: {
displayName: "Anni Siren",
photoUrl: "",
userId: "11101633362605165872"
}
}
},
source: [
"print (v1+v2)"
],
execution_count: 3,
outputs: [
{
output_type: "stream",
text: [
"3.0
"
],
name: "stdout"
}
]
},
{
cell_type: "markdown",
metadata: {
id: "ypBaO8Jm_1Vw",
colab_type: "text"
},
source: [
"#Type conversion"
]
},
{
cell_type: "code",
metadata: {
id: "nmwGG4CO_3hE",
colab_type: "code",
colab: { }
},
source: [
"print (31 + input('value 3: '))"
],
execution_count: 0,
outputs: [ ]
}
]
}