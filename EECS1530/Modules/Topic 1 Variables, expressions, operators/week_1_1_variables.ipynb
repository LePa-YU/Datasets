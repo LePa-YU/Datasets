{
nbformat: 4,
nbformat_minor: 0,
metadata: {
colab: {
name: "week_1_1_variables.ipynb",
provenance: [ ],
collapsed_sections: [ ]
},
kernelspec: {
name: "python3",
display_name: "Python 3"
}
},
cells: [
{
cell_type: "markdown",
metadata: {
id: "1kRs2RmTp9bx",
colab_type: "text"
},
source: [
"# Type()"
]
},
{
cell_type: "code",
metadata: {
id: "1KJ2CRgoqAhF",
colab_type: "code",
colab: { }
},
source: [
"a = 123
",
"b = 'Hello World'
",
"c = 1.0
",
"d = True"
],
execution_count: 0,
outputs: [ ]
},
{
cell_type: "code",
metadata: {
id: "FRt0Tw3sruzx",
colab_type: "code",
colab: { }
},
source: [
"type(a)"
],
execution_count: 0,
outputs: [ ]
},
{
cell_type: "code",
metadata: {
id: "-bMZ-YfSry7T",
colab_type: "code",
colab: { }
},
source: [
"type(b)"
],
execution_count: 0,
outputs: [ ]
},
{
cell_type: "code",
metadata: {
id: "w8yRUHeCr0oG",
colab_type: "code",
colab: { }
},
source: [
"type(c)"
],
execution_count: 0,
outputs: [ ]
},
{
cell_type: "code",
metadata: {
id: "y-oM0NpD0PxO",
colab_type: "code",
colab: { }
},
source: [
"type(d)"
],
execution_count: 0,
outputs: [ ]
},
{
cell_type: "markdown",
metadata: {
id: "GYK8S65pP1lj",
colab_type: "text"
},
source: [
"#Standard operators"
]
},
{
cell_type: "code",
metadata: {
id: "-0OdMroKZtGN",
colab_type: "code",
colab: { }
},
source: [
"# First assign values to variables
",
"x = 34
",
"y = 12
",
"z = 3"
],
execution_count: 0,
outputs: [ ]
},
{
cell_type: "code",
metadata: {
id: "VvaeH_-IZ0Bf",
colab_type: "code",
colab: { }
},
source: [
"print (x+y)"
],
execution_count: 0,
outputs: [ ]
},
{
cell_type: "markdown",
metadata: {
id: "DILnDuW3QGyt",
colab_type: "text"
},
source: [
"# What do you expect for each of these?"
]
},
{
cell_type: "code",
metadata: {
id: "rVD6j0DSZ1ej",
colab_type: "code",
colab: { }
},
source: [
"print (y/z)"
],
execution_count: 0,
outputs: [ ]
},
{
cell_type: "code",
metadata: {
id: "PfplduSN-4wd",
colab_type: "code",
colab: { }
},
source: [
"print (x/z)"
],
execution_count: 0,
outputs: [ ]
},
{
cell_type: "code",
metadata: {
id: "Iw3pHI7WZ3Bs",
colab_type: "code",
colab: { }
},
source: [
"a = x + y/z
",
"print (a)"
],
execution_count: 0,
outputs: [ ]
},
{
cell_type: "code",
metadata: {
id: "9_GvLLL7Z5TW",
colab_type: "code",
colab: { }
},
source: [
"print (x-(y+z))"
],
execution_count: 0,
outputs: [ ]
},
{
cell_type: "markdown",
metadata: {
id: "qclZjDtZQQdx",
colab_type: "text"
},
source: [
"#Operator precedence"
]
},
{
cell_type: "code",
metadata: {
id: "TDNLFRlwZ7Z-",
colab_type: "code",
colab: { }
},
source: [
"print (x+y/z)"
],
execution_count: 0,
outputs: [ ]
},
{
cell_type: "code",
metadata: {
id: "zRoEYoRI-9La",
colab_type: "code",
colab: { }
},
source: [
"print (x // z)"
],
execution_count: 0,
outputs: [ ]
},
{
cell_type: "code",
metadata: {
id: "dXaisdxy--B1",
colab_type: "code",
colab: { }
},
source: [
"print (x % z)"
],
execution_count: 0,
outputs: [ ]
},
{
cell_type: "code",
metadata: {
id: "_XmM1UGIZ8tC",
colab_type: "code",
colab: { }
},
source: [
"x = 2
",
"z = 3
",
"y = 12"
],
execution_count: 0,
outputs: [ ]
},
{
cell_type: "code",
metadata: {
id: "BGQFpDM5Z_q6",
colab_type: "code",
colab: { }
},
source: [
"a = x % y // z ** x
",
"print(a)"
],
execution_count: 0,
outputs: [ ]
},
{
cell_type: "code",
metadata: {
id: "O4HQLjr5aBvZ",
colab_type: "code",
colab: { }
},
source: [
"print (x/y*z)"
],
execution_count: 0,
outputs: [ ]
},
{
cell_type: "code",
metadata: {
id: "nXPz72ef_AcW",
colab_type: "code",
colab: { }
},
source: [
"print (x/(y*z))"
],
execution_count: 0,
outputs: [ ]
},
{
cell_type: "markdown",
metadata: {
id: "9EWoLBR8QYrY",
colab_type: "text"
},
source: [
"#Exponentiation"
]
},
{
cell_type: "code",
metadata: {
id: "8hz4hRCQaC4c",
colab_type: "code",
colab: { }
},
source: [
"print ((x/z)**(y/6))"
],
execution_count: 0,
outputs: [ ]
},
{
cell_type: "markdown",
metadata: {
id: "wHxedjb6QdYY",
colab_type: "text"
},
source: [
"#Integer division and mod operators"
]
},
{
cell_type: "code",
metadata: {
id: "-OqXsiPEaEsk",
colab_type: "code",
colab: {
base_uri: "https://localhost:8080/",
height: 34
},
outputId: "f8e2ba73-4871-4388-e8f0-15883bea1c03",
executionInfo: {
status: "ok",
timestamp: 1578515311777,
user_tz: 300,
elapsed: 534,
user: {
displayName: "Anni Siren",
photoUrl: "",
userId: "11101633362605165872"
}
}
},
source: [
"print (x // y)"
],
execution_count: 5,
outputs: [
{
output_type: "stream",
text: [
"2
"
],
name: "stdout"
}
]
},
{
cell_type: "code",
metadata: {
id: "Z7Va4nHS_GIy",
colab_type: "code",
colab: {
base_uri: "https://localhost:8080/",
height: 34
},
outputId: "68a5f258-5219-48ec-a54f-75946245e89e",
executionInfo: {
status: "ok",
timestamp: 1578515313436,
user_tz: 300,
elapsed: 501,
user: {
displayName: "Anni Siren",
photoUrl: "",
userId: "11101633362605165872"
}
}
},
source: [
"print (x % y)"
],
execution_count: 6,
outputs: [
{
output_type: "stream",
text: [
"10
"
],
name: "stdout"
}
]
},
{
cell_type: "markdown",
metadata: {
id: "9MNvzqgpQgo1",
colab_type: "text"
},
source: [
"#Precedence of // operator"
]
},
{
cell_type: "code",
metadata: {
id: "tUAyymCWaGAE",
colab_type: "code",
colab: {
base_uri: "https://localhost:8080/",
height: 34
},
outputId: "493df6aa-a4a9-446f-df88-c12c76e2392c",
executionInfo: {
status: "ok",
timestamp: 1578515308652,
user_tz: 300,
elapsed: 523,
user: {
displayName: "Anni Siren",
photoUrl: "",
userId: "11101633362605165872"
}
}
},
source: [
"print (x // y * 2)"
],
execution_count: 4,
outputs: [
{
output_type: "stream",
text: [
"4
"
],
name: "stdout"
}
]
},
{
cell_type: "markdown",
metadata: {
id: "Y-kZfsMudDaF",
colab_type: "text"
},
source: [
"# Naming Conventions"
]
},
{
cell_type: "markdown",
metadata: {
id: "g4z1dkfoDAIL",
colab_type: "text"
},
source: [
"standard_format"
]
},
{
cell_type: "code",
metadata: {
id: "FELcbxsDC_zX",
colab_type: "code",
colab: { }
},
source: [
"shopping_cart = 'apple'"
],
execution_count: 0,
outputs: [ ]
},
{
cell_type: "markdown",
metadata: {
id: "g9s4x3LhC45N",
colab_type: "text"
},
source: [
"CamelCase"
]
},
{
cell_type: "code",
metadata: {
id: "tn5qshbTdIBw",
colab_type: "code",
colab: { }
},
source: [
"shoppingCart = 'apple'"
],
execution_count: 0,
outputs: [ ]
},
{
cell_type: "markdown",
metadata: {
id: "EV-wOY7XErLm",
colab_type: "text"
},
source: [
"# Comments"
]
},
{
cell_type: "code",
metadata: {
id: "QMtqk7MLEoTw",
colab_type: "code",
colab: { }
},
source: [
"# Basic comment line
",
"
",
"code = 'Here is some code' # This is a comment inline with code"
],
execution_count: 0,
outputs: [ ]
}
]
}