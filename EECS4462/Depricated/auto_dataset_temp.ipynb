{
 "cells": [
  {
   "cell_type": "markdown",
   "metadata": {},
   "source": [
    "# Speeding up the creation of the dataset before manually correction\n"
   ]
  },
  {
   "cell_type": "code",
   "execution_count": 2,
   "metadata": {},
   "outputs": [],
   "source": [
    "import pandas as pd\n",
    "import os\n",
    "import numpy as np\n"
   ]
  },
  {
   "cell_type": "code",
   "execution_count": 3,
   "metadata": {},
   "outputs": [],
   "source": [
    "df= pd.DataFrame(columns=['Title', 'Source', 'Format', 'Type', 'isPartOf', 'isFormatOf', 'isRequiredBy'])\n",
    "resource_container='Course_Outline_[EECS4462]'\n",
    "path= './WebCrawlerOutput/'+resource_container\n"
   ]
  },
  {
   "cell_type": "markdown",
   "metadata": {},
   "source": [
    "## Adding the ER from the transcripts and audio files"
   ]
  },
  {
   "cell_type": "code",
   "execution_count": 9,
   "metadata": {},
   "outputs": [],
   "source": [
    "path='./Lecture_Audio/'\n",
    "formats={'.txt':'mER','.wav':'mER','.mp4':'iER'}\n",
    "is_part_of={'.txt':'Lecture_Transcripts','.wav':'Lecture_Audio','.mp4':'Lecture_Video'}\n",
    "is_format_of={'.txt':'.wav','.wav':'.mp4','.mp4':None}\n",
    "for file in os.listdir(path):\n",
    "\n",
    "    for format,type in formats.items():\n",
    "        new_row={\n",
    "            'Title': file,\n",
    "            'Source':'EECS4462',\n",
    "            'Format': format,\n",
    "            'Type':type,\n",
    "            'isPartOf':is_part_of[format],\n",
    "            'isFormatOf':('.'.join(file.split('.')[:-1]) + is_format_of[format] )if not format=='.mp4' else ''\n",
    "            # 'isRequiredBy':0\n",
    "        }\n",
    "\n",
    "        df = pd.concat([pd.DataFrame(new_row,index=[0]),df])\n",
    "        df=df.reset_index(drop=True)"
   ]
  },
  {
   "cell_type": "markdown",
   "metadata": {},
   "source": [
    "## Generate all weeks in the outline for both ER ==> iER and rER\n",
    "\n",
    "Separate each week\n",
    "\n",
    "Manually split the different ER"
   ]
  },
  {
   "cell_type": "code",
   "execution_count": 3,
   "metadata": {},
   "outputs": [],
   "source": [
    "outline = open(path+'/'+'Course_Outline_[EECS4462]_content.txt',mode='r', encoding='utf-8').read().split('\\n')\n",
    "# outline.find('−Table of Contents')\n",
    "\n",
    "# outline.index('−Table of Contents')\n",
    "begining_weeks = outline.index('−Table of Contents')+2\n",
    "ending_weeks = outline[begining_weeks:].index('Course Outline')+2\n",
    "\n",
    "weeks = outline[begining_weeks+ending_weeks:]\n",
    "\n",
    "for week_no in range(12,0,-1):\n",
    "    week_begins_index = [index for index,item in enumerate(weeks) if 'Week '+str(week_no)+' ' in item][0] if week_no>1 else week_ends_index\n",
    "    week_ends_index = [index for index,item in enumerate(weeks) if 'Week '+str(week_no-1)+' ' in item][0] if week_no>1 else -1\n",
    "\n",
    "    week_studyM_index = [index for index,item in enumerate(weeks[week_begins_index:week_ends_index]) if 'Study material' in item][0] \n",
    "    week_weeklyG_index = [index for index,item in enumerate(weeks[week_begins_index:week_ends_index]) if 'Weekly goals' in item][0] \n",
    "\n",
    "    # week_due = open(path+'/'+'_week_'+str(week_no), mode='w', encoding='utf-8')\n",
    "    # week_due.write(\"\\n\".join(weeks[week_begins_index:week_ends_index]))\n",
    "    # week_due.close()\n",
    "\n",
    "    week_due = open(path+'/'+resource_container+'_week_'+str(week_no)+'_due.txt', mode='w', encoding='utf-8')\n",
    "    week_due.write(weeks[ week_begins_index])\n",
    "    week_due.write(\"\\n\".join(weeks[week_begins_index : week_begins_index + week_studyM_index]))\n",
    "    week_due.close()\n",
    "\n",
    "    week_studyM = open(path+'/'+resource_container+'_week_'+str(week_no)+'_study_material.txt', mode='w', encoding='utf-8')\n",
    "    week_studyM.write(weeks[ week_begins_index])\n",
    "    week_studyM.write(\"\\n\".join(weeks[ week_begins_index + week_studyM_index : week_begins_index + week_weeklyG_index]))\n",
    "    week_studyM.close()\n",
    "\n",
    "    week_weeklyG = open(path+'/'+resource_container+'_week_'+str(week_no)+'_weekly_goals.txt', mode='w', encoding='utf-8')\n",
    "    week_weeklyG.write(weeks[ week_begins_index])\n",
    "    week_weeklyG.write(\"\\n\".join(weeks[week_begins_index + week_weeklyG_index: week_ends_index]))\n",
    "    week_weeklyG.close()\n",
    "\n"
   ]
  },
  {
   "cell_type": "markdown",
   "metadata": {},
   "source": [
    "## Populate DF"
   ]
  },
  {
   "cell_type": "code",
   "execution_count": 3,
   "metadata": {},
   "outputs": [],
   "source": [
    "def populate_df(resource_container,path,df):\n",
    "    dict_type={\n",
    "        'due.txt':'rER',\n",
    "        'goals.txt':'rER',\n",
    "        'material.txt': 'iER'\n",
    "    }\n",
    "    for item in os.listdir(path):\n",
    "\n",
    "        # If it is not the file content.txt or link.txt assume will be part of the content\n",
    "        # Otherwise those two files are part of the container (the folder itself or webpage)\n",
    "        is_part_of = resource_container if item.__contains__('content.txt') or item.__contains__('links.txt') else resource_container+'_content.txt'\n",
    "        type = dict_type[item.split('_')[-1]] if item.split('_')[-1] in dict_type.keys() else None\n",
    "        new_row={\n",
    "            'Title': item,\n",
    "            'Source':'EECS4462',\n",
    "            'Format': item[-4:],\n",
    "            'Type':type,\n",
    "            'isPartOf':is_part_of\n",
    "            # 'isFormatOf':0,\n",
    "            # 'isRequiredBy':0\n",
    "        }\n",
    "        df = pd.concat([pd.DataFrame(new_row,index=[0]),df])\n",
    "        df=df.reset_index(drop=True)\n",
    "    return df\n",
    "        \n",
    "\n"
   ]
  },
  {
   "cell_type": "code",
   "execution_count": 4,
   "metadata": {},
   "outputs": [
    {
     "data": {
      "text/plain": [
       "['Resources_[EECS4462]',\n",
       " 'Course_Outline_[EECS4462]',\n",
       " 'Assignment_2_[EECS4462]',\n",
       " 'eval_[EECS4462]',\n",
       " 'Assignment_1_[EECS4462]',\n",
       " 'Instructor_[EECS4462]',\n",
       " 'Important_Dates_[EECS4462]',\n",
       " 'Assignment_3_[EECS4462]',\n",
       " 'Grades_[EECS4462]']"
      ]
     },
     "execution_count": 4,
     "metadata": {},
     "output_type": "execute_result"
    }
   ],
   "source": [
    "os.listdir('./WebCrawlerOutput/')"
   ]
  },
  {
   "cell_type": "code",
   "execution_count": 5,
   "metadata": {},
   "outputs": [],
   "source": [
    "for resource_container in os.listdir('./WebCrawlerOutput/'):\n",
    "    path= './WebCrawlerOutput/'+resource_container\n",
    "    new_row={\n",
    "            'Title': resource_container,\n",
    "            'Source':'EECS4462',\n",
    "            # 'Format': item[-4:],\n",
    "            'Type':'container',\n",
    "            # 'isPartOf':is_part_of\n",
    "            # 'isFormatOf':0,\n",
    "            # 'isRequiredBy':0\n",
    "        }\n",
    "    df = pd.concat([pd.DataFrame(new_row,index=[0]),df])\n",
    "    df = df.reset_index(drop=True)\n",
    "    df = populate_df(resource_container,path,df)"
   ]
  },
  {
   "cell_type": "code",
   "execution_count": 11,
   "metadata": {},
   "outputs": [],
   "source": [
    "df.to_csv('./eecs4462_generated_trasncripts.csv')\n"
   ]
  }
 ],
 "metadata": {
  "kernelspec": {
   "display_name": "Python 3.9.12 ('base')",
   "language": "python",
   "name": "python3"
  },
  "language_info": {
   "codemirror_mode": {
    "name": "ipython",
    "version": 3
   },
   "file_extension": ".py",
   "mimetype": "text/x-python",
   "name": "python",
   "nbconvert_exporter": "python",
   "pygments_lexer": "ipython3",
   "version": "3.9.13"
  },
  "orig_nbformat": 4,
  "vscode": {
   "interpreter": {
    "hash": "11ea3f4b5187d3c6f0f9c4fb28493b1dc7b250e4670b20b5893462b4e239d1b0"
   }
  }
 },
 "nbformat": 4,
 "nbformat_minor": 2
}
